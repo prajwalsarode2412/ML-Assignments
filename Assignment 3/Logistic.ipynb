{
 "cells": [
  {
   "cell_type": "code",
   "execution_count": 3,
   "metadata": {},
   "outputs": [],
   "source": [
    "#import pandas\n",
    "import pandas as pd\n",
    "col_names = ['pregnant', 'glucose', 'bp', 'skin', 'insulin', 'bmi', 'pedigree', 'age', 'label']\n",
    "# load dataset\n",
    "pima = pd.read_csv(\"diabetes.csv\", header=None, names=col_names)"
   ]
  },
  {
   "cell_type": "code",
   "execution_count": 4,
   "metadata": {},
   "outputs": [
    {
     "data": {
      "text/html": [
       "<div>\n",
       "<style scoped>\n",
       "    .dataframe tbody tr th:only-of-type {\n",
       "        vertical-align: middle;\n",
       "    }\n",
       "\n",
       "    .dataframe tbody tr th {\n",
       "        vertical-align: top;\n",
       "    }\n",
       "\n",
       "    .dataframe thead th {\n",
       "        text-align: right;\n",
       "    }\n",
       "</style>\n",
       "<table border=\"1\" class=\"dataframe\">\n",
       "  <thead>\n",
       "    <tr style=\"text-align: right;\">\n",
       "      <th></th>\n",
       "      <th>pregnant</th>\n",
       "      <th>glucose</th>\n",
       "      <th>bp</th>\n",
       "      <th>skin</th>\n",
       "      <th>insulin</th>\n",
       "      <th>bmi</th>\n",
       "      <th>pedigree</th>\n",
       "      <th>age</th>\n",
       "      <th>label</th>\n",
       "    </tr>\n",
       "  </thead>\n",
       "  <tbody>\n",
       "    <tr>\n",
       "      <th>0</th>\n",
       "      <td>Pregnancies</td>\n",
       "      <td>Glucose</td>\n",
       "      <td>BloodPressure</td>\n",
       "      <td>SkinThickness</td>\n",
       "      <td>Insulin</td>\n",
       "      <td>BMI</td>\n",
       "      <td>DiabetesPedigreeFunction</td>\n",
       "      <td>Age</td>\n",
       "      <td>Outcome</td>\n",
       "    </tr>\n",
       "    <tr>\n",
       "      <th>1</th>\n",
       "      <td>6</td>\n",
       "      <td>148</td>\n",
       "      <td>72</td>\n",
       "      <td>35</td>\n",
       "      <td>0</td>\n",
       "      <td>33.6</td>\n",
       "      <td>0.627</td>\n",
       "      <td>50</td>\n",
       "      <td>1</td>\n",
       "    </tr>\n",
       "    <tr>\n",
       "      <th>2</th>\n",
       "      <td>1</td>\n",
       "      <td>85</td>\n",
       "      <td>66</td>\n",
       "      <td>29</td>\n",
       "      <td>0</td>\n",
       "      <td>26.6</td>\n",
       "      <td>0.351</td>\n",
       "      <td>31</td>\n",
       "      <td>0</td>\n",
       "    </tr>\n",
       "    <tr>\n",
       "      <th>3</th>\n",
       "      <td>8</td>\n",
       "      <td>183</td>\n",
       "      <td>64</td>\n",
       "      <td>0</td>\n",
       "      <td>0</td>\n",
       "      <td>23.3</td>\n",
       "      <td>0.672</td>\n",
       "      <td>32</td>\n",
       "      <td>1</td>\n",
       "    </tr>\n",
       "    <tr>\n",
       "      <th>4</th>\n",
       "      <td>1</td>\n",
       "      <td>89</td>\n",
       "      <td>66</td>\n",
       "      <td>23</td>\n",
       "      <td>94</td>\n",
       "      <td>28.1</td>\n",
       "      <td>0.167</td>\n",
       "      <td>21</td>\n",
       "      <td>0</td>\n",
       "    </tr>\n",
       "  </tbody>\n",
       "</table>\n",
       "</div>"
      ],
      "text/plain": [
       "      pregnant  glucose             bp           skin  insulin   bmi  \\\n",
       "0  Pregnancies  Glucose  BloodPressure  SkinThickness  Insulin   BMI   \n",
       "1            6      148             72             35        0  33.6   \n",
       "2            1       85             66             29        0  26.6   \n",
       "3            8      183             64              0        0  23.3   \n",
       "4            1       89             66             23       94  28.1   \n",
       "\n",
       "                   pedigree  age    label  \n",
       "0  DiabetesPedigreeFunction  Age  Outcome  \n",
       "1                     0.627   50        1  \n",
       "2                     0.351   31        0  \n",
       "3                     0.672   32        1  \n",
       "4                     0.167   21        0  "
      ]
     },
     "execution_count": 4,
     "metadata": {},
     "output_type": "execute_result"
    }
   ],
   "source": [
    "pima.head()"
   ]
  },
  {
   "cell_type": "code",
   "execution_count": 5,
   "metadata": {},
   "outputs": [],
   "source": [
    "#split dataset in features and target variable\n",
    "feature_cols = ['pregnant', 'insulin', 'bmi', 'age','glucose','bp','pedigree']\n",
    "X = pima[feature_cols] # Features\n",
    "y = pima.label # Target variable"
   ]
  },
  {
   "cell_type": "code",
   "execution_count": 6,
   "metadata": {},
   "outputs": [],
   "source": [
    "# split X and y into training and testing sets\n",
    "from sklearn.model_selection import train_test_split\n",
    "\n",
    "X_train, X_test, y_train, y_test = train_test_split(X, y, test_size=0.25, random_state=16)"
   ]
  },
  {
   "cell_type": "code",
   "execution_count": 11,
   "metadata": {},
   "outputs": [],
   "source": [
    "# import the class\n",
    "from sklearn.linear_model import LogisticRegression\n"
   ]
  },
  {
   "cell_type": "code",
   "execution_count": 12,
   "metadata": {},
   "outputs": [],
   "source": [
    "# instantiate the model (using the default parameters)\n",
    "logreg = LogisticRegression(random_state=16)"
   ]
  },
  {
   "cell_type": "code",
   "execution_count": 16,
   "metadata": {},
   "outputs": [
    {
     "name": "stdout",
     "output_type": "stream",
     "text": [
      "    pregnant insulin   bmi age glucose  bp pedigree\n",
      "688        1       0  28.3  29     107  50    0.181\n",
      "696        7     480  30.4  43     142  90    0.128\n",
      "119        4       0  28.2  22      97  60    0.443\n",
      "135        2      49  21.1  26      96  68    0.647\n",
      "676        6       0  30.9  31     195  70    0.328\n"
     ]
    }
   ],
   "source": [
    "print(X_train.head())"
   ]
  },
  {
   "cell_type": "code",
   "execution_count": 17,
   "metadata": {},
   "outputs": [
    {
     "name": "stdout",
     "output_type": "stream",
     "text": [
      "pregnant    object\n",
      "insulin     object\n",
      "bmi         object\n",
      "age         object\n",
      "glucose     object\n",
      "bp          object\n",
      "pedigree    object\n",
      "dtype: object\n"
     ]
    }
   ],
   "source": [
    "print(X_train.dtypes)"
   ]
  },
  {
   "cell_type": "code",
   "execution_count": 18,
   "metadata": {},
   "outputs": [
    {
     "name": "stdout",
     "output_type": "stream",
     "text": [
      "pregnant    0\n",
      "glucose     0\n",
      "bp          0\n",
      "skin        0\n",
      "insulin     0\n",
      "bmi         0\n",
      "pedigree    0\n",
      "age         0\n",
      "label       0\n",
      "dtype: int64\n"
     ]
    }
   ],
   "source": [
    "print(pima.isnull().sum())\n"
   ]
  },
  {
   "cell_type": "code",
   "execution_count": 19,
   "metadata": {},
   "outputs": [],
   "source": [
    "X_train = X_train.apply(pd.to_numeric, errors='coerce')"
   ]
  },
  {
   "cell_type": "code",
   "execution_count": 20,
   "metadata": {},
   "outputs": [
    {
     "name": "stdout",
     "output_type": "stream",
     "text": [
      "     pregnant  insulin   bmi   age  glucose    bp  pedigree\n",
      "688       1.0      0.0  28.3  29.0    107.0  50.0     0.181\n",
      "696       7.0    480.0  30.4  43.0    142.0  90.0     0.128\n",
      "119       4.0      0.0  28.2  22.0     97.0  60.0     0.443\n",
      "135       2.0     49.0  21.1  26.0     96.0  68.0     0.647\n",
      "676       6.0      0.0  30.9  31.0    195.0  70.0     0.328\n",
      "pregnant    float64\n",
      "insulin     float64\n",
      "bmi         float64\n",
      "age         float64\n",
      "glucose     float64\n",
      "bp          float64\n",
      "pedigree    float64\n",
      "dtype: object\n"
     ]
    }
   ],
   "source": [
    "print(X_train.head())\n",
    "print(X_train.dtypes)"
   ]
  },
  {
   "cell_type": "code",
   "execution_count": 22,
   "metadata": {},
   "outputs": [
    {
     "name": "stdout",
     "output_type": "stream",
     "text": [
      "pregnant    0\n",
      "glucose     0\n",
      "bp          0\n",
      "skin        0\n",
      "insulin     0\n",
      "bmi         0\n",
      "pedigree    0\n",
      "age         0\n",
      "label       0\n",
      "dtype: int64\n"
     ]
    }
   ],
   "source": [
    "print(pima.isnull().sum())"
   ]
  },
  {
   "cell_type": "code",
   "execution_count": 23,
   "metadata": {},
   "outputs": [
    {
     "name": "stdout",
     "output_type": "stream",
     "text": [
      "pregnant    object\n",
      "glucose     object\n",
      "bp          object\n",
      "skin        object\n",
      "insulin     object\n",
      "bmi         object\n",
      "pedigree    object\n",
      "age         object\n",
      "label       object\n",
      "dtype: object\n"
     ]
    }
   ],
   "source": [
    "print(pima.dtypes)"
   ]
  },
  {
   "cell_type": "code",
   "execution_count": 24,
   "metadata": {},
   "outputs": [],
   "source": [
    "for col in pima.columns:\n",
    "    pima[col] = pd.to_numeric(pima[col], errors='coerce')"
   ]
  },
  {
   "cell_type": "code",
   "execution_count": 25,
   "metadata": {},
   "outputs": [],
   "source": [
    "pima = pd.get_dummies(pima, drop_first=True)"
   ]
  },
  {
   "cell_type": "code",
   "execution_count": 26,
   "metadata": {},
   "outputs": [
    {
     "name": "stdout",
     "output_type": "stream",
     "text": [
      "pregnant    float64\n",
      "glucose     float64\n",
      "bp          float64\n",
      "skin        float64\n",
      "insulin     float64\n",
      "bmi         float64\n",
      "pedigree    float64\n",
      "age         float64\n",
      "label       float64\n",
      "dtype: object\n"
     ]
    }
   ],
   "source": [
    "print(pima.dtypes)"
   ]
  },
  {
   "cell_type": "code",
   "execution_count": 28,
   "metadata": {},
   "outputs": [
    {
     "name": "stdout",
     "output_type": "stream",
     "text": [
      "pregnant    0\n",
      "glucose     0\n",
      "bp          0\n",
      "skin        0\n",
      "insulin     0\n",
      "bmi         0\n",
      "pedigree    0\n",
      "age         0\n",
      "label       0\n",
      "dtype: int64\n"
     ]
    }
   ],
   "source": [
    "import numpy as np\n",
    "print(np.isinf(pima).sum())"
   ]
  },
  {
   "cell_type": "code",
   "execution_count": 29,
   "metadata": {},
   "outputs": [],
   "source": [
    "pima.replace([np.inf, -np.inf], np.nan, inplace=True)\n",
    "pima = pima.fillna(0)  # Replace NaN with 0"
   ]
  },
  {
   "cell_type": "code",
   "execution_count": 30,
   "metadata": {},
   "outputs": [
    {
     "name": "stdout",
     "output_type": "stream",
     "text": [
      "pregnant    0\n",
      "glucose     0\n",
      "bp          0\n",
      "skin        0\n",
      "insulin     0\n",
      "bmi         0\n",
      "pedigree    0\n",
      "age         0\n",
      "label       0\n",
      "dtype: int64\n",
      "pregnant    0\n",
      "glucose     0\n",
      "bp          0\n",
      "skin        0\n",
      "insulin     0\n",
      "bmi         0\n",
      "pedigree    0\n",
      "age         0\n",
      "label       0\n",
      "dtype: int64\n"
     ]
    }
   ],
   "source": [
    "print(pima.isnull().sum())  # Check for missing values\n",
    "print(np.isinf(pima).sum())  # Check for infinite values"
   ]
  },
  {
   "cell_type": "code",
   "execution_count": 31,
   "metadata": {},
   "outputs": [
    {
     "name": "stdout",
     "output_type": "stream",
     "text": [
      "Column 'pregnant' has unique values: [ 0.  6.  1.  8.  5.  3. 10.  2.  4.  7.  9. 11. 13. 15. 17. 12. 14.]\n",
      "Column 'glucose' has unique values: [  0. 148.  85. 183.  89. 137. 116.  78. 115. 197. 125. 110. 168. 139.\n",
      " 189. 166. 100. 118. 107. 103. 126.  99. 196. 119. 143. 147.  97. 145.\n",
      " 117. 109. 158.  88.  92. 122. 138. 102.  90. 111. 180. 133. 106. 171.\n",
      " 159. 146.  71. 105. 101. 176. 150.  73. 187.  84.  44. 141. 114.  95.\n",
      " 129.  79.  62. 131. 112. 113.  74.  83. 136.  80. 123.  81. 134. 142.\n",
      " 144.  93. 163. 151.  96. 155.  76. 160. 124. 162. 132. 120. 173. 170.\n",
      " 128. 108. 154.  57. 156. 153. 188. 152. 104.  87.  75. 179. 130. 194.\n",
      " 181. 135. 184. 140. 177. 164.  91. 165.  86. 193. 191. 161. 167.  77.\n",
      " 182. 157. 178.  61.  98. 127.  82.  72. 172.  94. 175. 195.  68. 186.\n",
      " 198. 121.  67. 174. 199.  56. 169. 149.  65. 190.]\n",
      "Column 'bp' has unique values: [  0.  72.  66.  64.  40.  74.  50.  70.  96.  92.  80.  60.  84.  30.\n",
      "  88.  90.  94.  76.  82.  75.  58.  78.  68. 110.  56.  62.  85.  86.\n",
      "  48.  44.  65. 108.  55. 122.  54.  52.  98. 104.  95.  46. 102. 100.\n",
      "  61.  24.  38. 106. 114.]\n",
      "Column 'skin' has unique values: [ 0. 35. 29. 23. 32. 45. 19. 47. 38. 30. 41. 33. 26. 15. 36. 11. 31. 37.\n",
      " 42. 25. 18. 24. 39. 27. 21. 34. 10. 60. 13. 20. 22. 28. 54. 40. 51. 56.\n",
      " 14. 17. 50. 44. 12. 46. 16.  7. 52. 43. 48.  8. 49. 63. 99.]\n",
      "Column 'insulin' has unique values: [  0.  94. 168.  88. 543. 846. 175. 230.  83.  96. 235. 146. 115. 140.\n",
      " 110. 245.  54. 192. 207.  70. 240.  82.  36.  23. 300. 342. 304. 142.\n",
      " 128.  38. 100.  90. 270.  71. 125. 176.  48.  64. 228.  76. 220.  40.\n",
      " 152.  18. 135. 495.  37.  51.  99. 145. 225.  49.  50.  92. 325.  63.\n",
      " 284. 119. 204. 155. 485.  53. 114. 105. 285. 156.  78. 130.  55.  58.\n",
      " 160. 210. 318.  44. 190. 280.  87. 271. 129. 120. 478.  56.  32. 744.\n",
      " 370.  45. 194. 680. 402. 258. 375. 150.  67.  57. 116. 278. 122. 545.\n",
      "  75.  74. 182. 360. 215. 184.  42. 132. 148. 180. 205.  85. 231.  29.\n",
      "  68.  52. 255. 171.  73. 108.  43. 167. 249. 293.  66. 465.  89. 158.\n",
      "  84.  72.  59.  81. 196. 415. 275. 165. 579. 310.  61. 474. 170. 277.\n",
      "  60.  14.  95. 237. 191. 328. 250. 480. 265. 193.  79.  86. 326. 188.\n",
      " 106.  65. 166. 274.  77. 126. 330. 600. 185.  25.  41. 272. 321. 144.\n",
      "  15. 183.  91.  46. 440. 159. 540. 200. 335. 387.  22. 291. 392. 178.\n",
      " 127. 510.  16. 112.]\n",
      "Column 'bmi' has unique values: [ 0.  33.6 26.6 23.3 28.1 43.1 25.6 31.  35.3 30.5 37.6 38.  27.1 30.1\n",
      " 25.8 30.  45.8 29.6 43.3 34.6 39.3 35.4 39.8 29.  36.6 31.1 39.4 23.2\n",
      " 22.2 34.1 36.  31.6 24.8 19.9 27.6 24.  33.2 32.9 38.2 37.1 34.  40.2\n",
      " 22.7 45.4 27.4 42.  29.7 28.  39.1 19.4 24.2 24.4 33.7 34.7 23.  37.7\n",
      " 46.8 40.5 41.5 25.  25.4 32.8 32.5 42.7 19.6 28.9 28.6 43.4 35.1 32.\n",
      " 24.7 32.6 43.2 22.4 29.3 24.6 48.8 32.4 38.5 26.5 19.1 46.7 23.8 33.9\n",
      " 20.4 28.7 49.7 39.  26.1 22.5 39.6 29.5 34.3 37.4 33.3 31.2 28.2 53.2\n",
      " 34.2 26.8 55.  42.9 34.5 27.9 38.3 21.1 33.8 30.8 36.9 39.5 27.3 21.9\n",
      " 40.6 47.9 50.  25.2 40.9 37.2 44.2 29.9 31.9 28.4 43.5 32.7 67.1 45.\n",
      " 34.9 27.7 35.9 22.6 33.1 30.4 52.3 24.3 22.9 34.8 30.9 40.1 23.9 37.5\n",
      " 35.5 42.8 42.6 41.8 35.8 37.8 28.8 23.6 35.7 36.7 45.2 44.  46.2 35.\n",
      " 43.6 44.1 18.4 29.2 25.9 32.1 36.3 40.  25.1 27.5 45.6 27.8 24.9 25.3\n",
      " 37.9 27.  26.  38.7 20.8 36.1 30.7 32.3 52.9 21.  39.7 25.5 26.2 19.3\n",
      " 38.1 23.5 45.5 23.1 39.9 36.8 21.8 41.  42.2 34.4 27.2 36.5 29.8 39.2\n",
      " 38.4 36.2 48.3 20.  22.3 45.7 23.7 22.1 42.1 42.4 18.2 26.4 45.3 37.\n",
      " 24.5 32.2 59.4 21.2 26.7 30.2 46.1 41.3 38.8 35.2 42.3 40.7 46.5 33.5\n",
      " 37.3 30.3 26.3 21.7 36.4 28.5 26.9 38.6 31.3 19.5 20.1 40.8 23.4 28.3\n",
      " 38.9 57.3 35.6 49.6 44.6 24.1 44.5 41.2 49.3 46.3]\n",
      "Column 'pedigree' has unique values: [0.    0.627 0.351 0.672 0.167 2.288 0.201 0.248 0.134 0.158 0.232 0.191\n",
      " 0.537 1.441 0.398 0.587 0.484 0.551 0.254 0.183 0.529 0.704 0.388 0.451\n",
      " 0.263 0.205 0.257 0.487 0.245 0.337 0.546 0.851 0.267 0.188 0.512 0.966\n",
      " 0.42  0.665 0.503 1.39  0.271 0.696 0.235 0.721 0.294 1.893 0.564 0.586\n",
      " 0.344 0.305 0.491 0.526 0.342 0.467 0.718 0.962 1.781 0.173 0.304 0.27\n",
      " 0.699 0.258 0.203 0.855 0.845 0.334 0.189 0.867 0.411 0.583 0.231 0.396\n",
      " 0.14  0.391 0.37  0.307 0.102 0.767 0.237 0.227 0.698 0.178 0.324 0.153\n",
      " 0.165 0.443 0.261 0.277 0.761 0.255 0.13  0.323 0.356 0.325 1.222 0.179\n",
      " 0.262 0.283 0.93  0.801 0.207 0.287 0.336 0.247 0.199 0.543 0.192 0.588\n",
      " 0.539 0.22  0.654 0.223 0.759 0.26  0.404 0.186 0.278 0.496 0.452 0.403\n",
      " 0.741 0.361 1.114 0.457 0.647 0.088 0.597 0.532 0.703 0.159 0.268 0.286\n",
      " 0.318 0.272 0.572 0.096 1.4   0.218 0.085 0.399 0.432 1.189 0.687 0.137\n",
      " 0.637 0.833 0.229 0.817 0.204 0.368 0.743 0.722 0.256 0.709 0.471 0.495\n",
      " 0.18  0.542 0.773 0.678 0.719 0.382 0.319 0.19  0.956 0.084 0.725 0.299\n",
      " 0.244 0.745 0.615 1.321 0.64  0.142 0.374 0.383 0.578 0.136 0.395 0.187\n",
      " 0.905 0.15  0.874 0.236 0.787 0.407 0.605 0.151 0.289 0.355 0.29  0.375\n",
      " 0.164 0.431 0.742 0.514 0.464 1.224 1.072 0.805 0.209 0.666 0.101 0.198\n",
      " 0.652 2.329 0.089 0.645 0.238 0.394 0.293 0.479 0.686 0.831 0.582 0.446\n",
      " 0.402 1.318 0.329 1.213 0.427 0.282 0.143 0.38  0.284 0.249 0.926 0.557\n",
      " 0.092 0.655 1.353 0.612 0.2   0.226 0.997 0.933 1.101 0.078 0.24  1.136\n",
      " 0.128 0.422 0.251 0.677 0.296 0.454 0.744 0.881 0.28  0.259 0.619 0.808\n",
      " 0.34  0.434 0.757 0.613 0.692 0.52  0.412 0.84  0.839 0.156 0.215 0.326\n",
      " 1.391 0.875 0.313 0.433 0.626 1.127 0.315 0.345 0.129 0.527 0.197 0.731\n",
      " 0.148 0.123 0.127 0.122 1.476 0.166 0.932 0.343 0.893 0.331 0.472 0.673\n",
      " 0.389 0.485 0.349 0.279 0.346 0.252 0.243 0.58  0.559 0.302 0.569 0.378\n",
      " 0.385 0.499 0.306 0.234 2.137 1.731 0.545 0.225 0.816 0.528 0.509 1.021\n",
      " 0.821 0.947 1.268 0.221 0.66  0.239 0.949 0.444 0.463 0.803 1.6   0.944\n",
      " 0.196 0.241 0.161 0.135 0.376 1.191 0.702 0.674 1.076 0.534 1.095 0.554\n",
      " 0.624 0.219 0.507 0.561 0.421 0.516 0.264 0.328 0.233 0.108 1.138 0.147\n",
      " 0.727 0.435 0.497 0.23  0.955 2.42  0.658 0.33  0.51  0.285 0.415 0.381\n",
      " 0.832 0.498 0.212 0.364 1.001 0.46  0.733 0.416 0.705 1.022 0.269 0.6\n",
      " 0.571 0.607 0.17  0.21  0.126 0.711 0.466 0.162 0.419 0.63  0.365 0.536\n",
      " 1.159 0.629 0.292 0.145 1.144 0.174 0.547 0.163 0.738 0.314 0.968 0.409\n",
      " 0.297 0.525 0.154 0.771 0.107 0.493 0.717 0.917 0.501 1.251 0.735 0.804\n",
      " 0.661 0.549 0.825 0.423 1.034 0.16  0.341 0.68  0.591 0.3   0.121 0.502\n",
      " 0.401 0.601 0.748 0.338 0.43  0.892 0.813 0.693 0.575 0.371 0.206 0.417\n",
      " 1.154 0.925 0.175 1.699 0.682 0.194 0.4   0.1   1.258 0.482 0.138 0.593\n",
      " 0.878 0.157 1.282 0.141 0.246 1.698 1.461 0.347 0.362 0.393 0.144 0.732\n",
      " 0.115 0.465 0.649 0.871 0.149 0.695 0.303 0.61  0.73  0.447 0.455 0.133\n",
      " 0.155 1.162 1.292 0.182 1.394 0.217 0.631 0.88  0.614 0.332 0.366 0.181\n",
      " 0.828 0.335 0.856 0.886 0.439 0.253 0.598 0.904 0.483 0.565 0.118 0.177\n",
      " 0.176 0.295 0.441 0.352 0.826 0.97  0.595 0.317 0.265 0.646 0.426 0.56\n",
      " 0.515 0.453 0.785 0.734 1.174 0.488 0.358 1.096 0.408 1.182 0.222 1.057\n",
      " 0.766 0.171]\n",
      "Column 'age' has unique values: [ 0. 50. 31. 32. 21. 33. 30. 26. 29. 53. 54. 34. 57. 59. 51. 27. 41. 43.\n",
      " 22. 38. 60. 28. 45. 35. 46. 56. 37. 48. 40. 25. 24. 58. 42. 44. 39. 36.\n",
      " 23. 61. 69. 62. 55. 65. 47. 52. 66. 49. 63. 67. 72. 81. 64. 70. 68.]\n",
      "Column 'label' has unique values: [0. 1.]\n"
     ]
    }
   ],
   "source": [
    "for col in pima.columns:\n",
    "    print(f\"Column '{col}' has unique values: {pima[col].unique()}\")"
   ]
  },
  {
   "cell_type": "code",
   "execution_count": 33,
   "metadata": {},
   "outputs": [],
   "source": [
    "X_train = X_train.dropna()\n",
    "y_train = y_train.loc[X_train.index]  # Drop corresponding labels\n"
   ]
  },
  {
   "cell_type": "code",
   "execution_count": 34,
   "metadata": {},
   "outputs": [
    {
     "name": "stderr",
     "output_type": "stream",
     "text": [
      "c:\\Users\\prajw\\AppData\\Local\\Programs\\Python\\Python312\\Lib\\site-packages\\sklearn\\linear_model\\_logistic.py:469: ConvergenceWarning: lbfgs failed to converge (status=1):\n",
      "STOP: TOTAL NO. of ITERATIONS REACHED LIMIT.\n",
      "\n",
      "Increase the number of iterations (max_iter) or scale the data as shown in:\n",
      "    https://scikit-learn.org/stable/modules/preprocessing.html\n",
      "Please also refer to the documentation for alternative solver options:\n",
      "    https://scikit-learn.org/stable/modules/linear_model.html#logistic-regression\n",
      "  n_iter_i = _check_optimize_result(\n"
     ]
    }
   ],
   "source": [
    "# import the class\n",
    "from sklearn.linear_model import LogisticRegression\n",
    "\n",
    "# instantiate the model (using the default parameters)\n",
    "logreg = LogisticRegression(random_state=16)\n",
    "\n",
    "# fit the model with data\n",
    "logreg.fit(X_train, y_train)\n",
    "\n",
    "y_pred = logreg.predict(X_test)"
   ]
  },
  {
   "cell_type": "code",
   "execution_count": 35,
   "metadata": {},
   "outputs": [
    {
     "data": {
      "text/plain": [
       "array([[111,  20],\n",
       "       [ 18,  44]], dtype=int64)"
      ]
     },
     "execution_count": 35,
     "metadata": {},
     "output_type": "execute_result"
    }
   ],
   "source": [
    "# import the metrics class\n",
    "from sklearn import metrics\n",
    "\n",
    "cnf_matrix = metrics.confusion_matrix(y_test, y_pred)\n",
    "cnf_matrix"
   ]
  },
  {
   "cell_type": "code",
   "execution_count": 38,
   "metadata": {},
   "outputs": [
    {
     "data": {
      "text/plain": [
       "Text(0.5, 427.9555555555555, 'Predicted label')"
      ]
     },
     "execution_count": 38,
     "metadata": {},
     "output_type": "execute_result"
    },
    {
     "data": {
      "image/png": "[encoded data removed]",
      "text/plain": [
       "<Figure size 640x480 with 2 Axes>"
      ]
     },
     "metadata": {},
     "output_type": "display_data"
    }
   ],
   "source": [
    "# import required modules\n",
    "import numpy as np\n",
    "import matplotlib.pyplot as plt\n",
    "import seaborn as sns\n",
    "\n",
    "class_names=[0,1] # name  of classes\n",
    "fig, ax = plt.subplots()\n",
    "tick_marks = np.arange(len(class_names))\n",
    "plt.xticks(tick_marks, class_names)\n",
    "plt.yticks(tick_marks, class_names)\n",
    "# create heatmap\n",
    "sns.heatmap(pd.DataFrame(cnf_matrix), annot=True, cmap=\"YlGnBu\" ,fmt='g')\n",
    "ax.xaxis.set_label_position(\"top\")\n",
    "plt.tight_layout()\n",
    "plt.title('Confusion matrix', y=1.1)\n",
    "plt.ylabel('Actual label')\n",
    "plt.xlabel('Predicted label')\n"
   ]
  },
  {
   "cell_type": "code",
   "execution_count": 39,
   "metadata": {},
   "outputs": [
    {
     "name": "stdout",
     "output_type": "stream",
     "text": [
      "                  precision    recall  f1-score   support\n",
      "\n",
      "without diabetes       0.86      0.85      0.85       131\n",
      "   with diabetes       0.69      0.71      0.70        62\n",
      "\n",
      "        accuracy                           0.80       193\n",
      "       macro avg       0.77      0.78      0.78       193\n",
      "    weighted avg       0.80      0.80      0.80       193\n",
      "\n"
     ]
    }
   ],
   "source": [
    "from sklearn.metrics import classification_report\n",
    "target_names = ['without diabetes', 'with diabetes']\n",
    "print(classification_report(y_test, y_pred, target_names=target_names))"
   ]
  }
 ],
 "metadata": {
  "kernelspec": {
   "display_name": "Python 3",
   "language": "python",
   "name": "python3"
  },
  "language_info": {
   "codemirror_mode": {
    "name": "ipython",
    "version": 3
   },
   "file_extension": ".py",
   "mimetype": "text/x-python",
   "name": "python",
   "nbconvert_exporter": "python",
   "pygments_lexer": "ipython3",
   "version": "3.12.4"
  }
 },
 "nbformat": 4,
 "nbformat_minor": 2
}
